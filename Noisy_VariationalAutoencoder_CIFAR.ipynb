{
  "nbformat": 4,
  "nbformat_minor": 0,
  "metadata": {
    "colab": {
      "name": "Noisy_VariationalAutoencoder_CIFAR.ipynb",
      "provenance": [],
      "collapsed_sections": [],
      "include_colab_link": true
    },
    "kernelspec": {
      "name": "python3",
      "display_name": "Python 3"
    },
    "language_info": {
      "name": "python"
    },
    "accelerator": "GPU"
  },
  "cells": [
    {
      "cell_type": "markdown",
      "metadata": {
        "id": "view-in-github",
        "colab_type": "text"
      },
      "source": [
        "<a href=\"https://colab.research.google.com/github/Shujaat123/Noisy-AE-LSE/blob/main/Noisy_VariationalAutoencoder_CIFAR.ipynb\" target=\"_parent\"><img src=\"https://colab.research.google.com/assets/colab-badge.svg\" alt=\"Open In Colab\"/></a>"
      ]
    },
    {
      "cell_type": "markdown",
      "metadata": {
        "id": "0wga9I2bTk-2"
      },
      "source": [
        "# **Noisy-VAE-LSE: Noisy bypass-Variational Autoencoder with Latent Space Encoding**\n",
        "\n",
        "---\n",
        "\n"
      ]
    },
    {
      "cell_type": "markdown",
      "metadata": {
        "id": "Mf0G-4ZJUE0H"
      },
      "source": [
        "**Loading Useful libraries and packages**\n"
      ]
    },
    {
      "cell_type": "code",
      "metadata": {
        "id": "Piod7cX_jdRc",
        "colab": {
          "base_uri": "https://localhost:8080/"
        },
        "outputId": "9c587136-3175-4ecb-e5ce-d96b4fafa9a9"
      },
      "source": [
        "import tensorflow as tf\n",
        "import pandas as pd\n",
        "import numpy as np\n",
        "import matplotlib.pyplot as plt\n",
        "import seaborn as sns\n",
        "#import random\n",
        "!pip install wget\n",
        "from random import sample\n",
        "\n",
        "from os import path\n",
        "import h5py\n",
        "import keras.backend as K\n",
        "import wget\n",
        "\n",
        "from keras.utils.np_utils import to_categorical\n",
        "from keras.models import load_model\n",
        "from keras.callbacks import EarlyStopping\n",
        "from keras.callbacks import ModelCheckpoint\n",
        "\n",
        "from keras.layers import Input, Dense, Conv2D, MaxPooling2D, UpSampling2D, BatchNormalization, AveragePooling2D, Dropout, Conv2DTranspose, SeparableConv2D, Add\n",
        "from keras.models import Model\n",
        "from keras import backend as K\n",
        "from tensorflow.keras import datasets, layers, losses"
      ],
      "execution_count": 1,
      "outputs": [
        {
          "output_type": "stream",
          "name": "stdout",
          "text": [
            "Requirement already satisfied: wget in /usr/local/lib/python3.7/dist-packages (3.2)\n"
          ]
        }
      ]
    },
    {
      "cell_type": "markdown",
      "metadata": {
        "id": "NxPm1JdPUqxF"
      },
      "source": [
        "**Loading dataset**"
      ]
    },
    {
      "cell_type": "code",
      "metadata": {
        "id": "ohL6ALqGjfUQ"
      },
      "source": [
        "(train_images, train_labels), (test_images, test_labels) = datasets.cifar10.load_data()\n",
        "\n",
        "# Normalize pixel values to be between 0 and 1\n",
        "train_images, test_images = train_images / 255.0, test_images / 255.0"
      ],
      "execution_count": 2,
      "outputs": []
    },
    {
      "cell_type": "markdown",
      "source": [
        "**Defining Sampling Layer for Variational AutoEncoder**"
      ],
      "metadata": {
        "id": "Wa-gV1i2WMUD"
      }
    },
    {
      "cell_type": "code",
      "source": [
        "class Sampling(layers.Layer):\n",
        "    \"\"\"Uses (z_mean, z_log_var) to sample z, the vector encoding a digit.\"\"\"\n",
        "\n",
        "    def call(self, inputs):\n",
        "        z_mean, z_log_var = inputs\n",
        "        batch = tf.shape(z_mean)[0]\n",
        "        dim = tf.shape(z_mean)[1:]\n",
        "        # epsilon = tf.keras.backend.random_normal(shape=(batch, dim))\n",
        "        epsilon = tf.keras.backend.random_normal(shape=(batch, dim[0],dim[1],dim[2]))\n",
        "        return z_mean + tf.exp(0.5 * z_log_var) * epsilon"
      ],
      "metadata": {
        "id": "8Xzc4bJcWKyS"
      },
      "execution_count": 3,
      "outputs": []
    },
    {
      "cell_type": "markdown",
      "metadata": {
        "id": "FbQ6nQByUtSx"
      },
      "source": [
        "**Defining autoencoder(AE) model**"
      ]
    },
    {
      "cell_type": "code",
      "metadata": {
        "id": "4I8SyntwjhYR"
      },
      "source": [
        "def my_model():\n",
        "  input_img = Input(shape=(32, 32, 3))\n",
        "  num_filter = 32\n",
        "  kernel_size = 7\n",
        "  strides = 2   \n",
        "  activation='tanh'\n",
        "\n",
        "  x = Conv2D(num_filter, kernel_size, 1, activation=activation, padding='same', name = 'enc1')(input_img)\n",
        "  # x = AveragePooling2D((2, 2))(x)\n",
        "  x = BatchNormalization()(x)\n",
        "  x = Conv2D(num_filter, kernel_size, strides, activation=activation, padding='same', name = 'enc2')(x) \n",
        "  # x = AveragePooling2D((2, 2))(x)\n",
        "\n",
        "  # x = Conv2D(3, kernel_size, strides, activation='relu', padding='same', name = 'enc4')(x) \n",
        "  # x = AveragePooling2D((2, 2))(x)\n",
        "\n",
        "  # encoded = BatchNormalization()(Conv2D(3, 1, 1, activation=activation, padding='valid', name = 'encoder_output')(x))\n",
        "  \n",
        "  z_mean = BatchNormalization()(Conv2D(3, 1, 1, activation=activation, padding='valid', name = 'z_mean')(x))\n",
        "  z_log_var = BatchNormalization()(Conv2D(3, 1, 1, activation=activation, padding='valid', name = 'z_log_var')(x))  \n",
        "  encoded = Sampling()([z_mean, z_log_var])\n",
        "\n",
        "  # z_mean = Dense(LV, name=\"z_mean\")(enc_l3)\n",
        "  # z_log_var = Dense(LV, name=\"z_log_var\")(enc_l3)\n",
        "  # encoded = Sampling()([z_mean, z_log_var])\n",
        "\n",
        "  x = UpSampling2D((2,2), interpolation = 'bilinear')(encoded)\n",
        "  x = Conv2DTranspose(num_filter, kernel_size, 1, activation=activation, padding='same', name = 'dec1')(x)\n",
        "\n",
        "  # x = UpSampling2D((2,2), interpolation = 'bilinear')(x)\n",
        "  # x = Conv2DTranspose(3, kernel_size, strides, activation=activation, padding='same', name = 'dec2')(x)\n",
        "  x = BatchNormalization()(x)\n",
        "  \n",
        "  # x = UpSampling2D((2,2), interpolation = 'bilinear')(x)\n",
        "  x = Conv2DTranspose(num_filter, kernel_size, 1, activation=activation, padding='same', name = 'dec2')(x)\n",
        "  # x = BatchNormalization()(x)\n",
        "  decoded = Conv2D(3, (1, 1), activation='sigmoid', name = 'output')(x)\n",
        "\n",
        "  autoencoder = Model(input_img, decoded)\n",
        "  autoencoder.compile(optimizer='adam', loss=losses.MeanSquaredError())\n",
        "  return autoencoder\n",
        "\n",
        "autoencoder = my_model()"
      ],
      "execution_count": 4,
      "outputs": []
    },
    {
      "cell_type": "code",
      "metadata": {
        "id": "oVTwf9jAjrn0",
        "colab": {
          "base_uri": "https://localhost:8080/"
        },
        "outputId": "5d004a46-5c6a-4b9b-a4ce-3eb4b345e659"
      },
      "source": [
        "autoencoder.summary()"
      ],
      "execution_count": 5,
      "outputs": [
        {
          "output_type": "stream",
          "name": "stdout",
          "text": [
            "Model: \"model\"\n",
            "__________________________________________________________________________________________________\n",
            " Layer (type)                   Output Shape         Param #     Connected to                     \n",
            "==================================================================================================\n",
            " input_1 (InputLayer)           [(None, 32, 32, 3)]  0           []                               \n",
            "                                                                                                  \n",
            " enc1 (Conv2D)                  (None, 32, 32, 32)   4736        ['input_1[0][0]']                \n",
            "                                                                                                  \n",
            " batch_normalization (BatchNorm  (None, 32, 32, 32)  128         ['enc1[0][0]']                   \n",
            " alization)                                                                                       \n",
            "                                                                                                  \n",
            " enc2 (Conv2D)                  (None, 16, 16, 32)   50208       ['batch_normalization[0][0]']    \n",
            "                                                                                                  \n",
            " z_mean (Conv2D)                (None, 16, 16, 3)    99          ['enc2[0][0]']                   \n",
            "                                                                                                  \n",
            " z_log_var (Conv2D)             (None, 16, 16, 3)    99          ['enc2[0][0]']                   \n",
            "                                                                                                  \n",
            " batch_normalization_1 (BatchNo  (None, 16, 16, 3)   12          ['z_mean[0][0]']                 \n",
            " rmalization)                                                                                     \n",
            "                                                                                                  \n",
            " batch_normalization_2 (BatchNo  (None, 16, 16, 3)   12          ['z_log_var[0][0]']              \n",
            " rmalization)                                                                                     \n",
            "                                                                                                  \n",
            " sampling (Sampling)            (None, 16, 16, 3)    0           ['batch_normalization_1[0][0]',  \n",
            "                                                                  'batch_normalization_2[0][0]']  \n",
            "                                                                                                  \n",
            " up_sampling2d (UpSampling2D)   (None, 32, 32, 3)    0           ['sampling[0][0]']               \n",
            "                                                                                                  \n",
            " dec1 (Conv2DTranspose)         (None, 32, 32, 32)   4736        ['up_sampling2d[0][0]']          \n",
            "                                                                                                  \n",
            " batch_normalization_3 (BatchNo  (None, 32, 32, 32)  128         ['dec1[0][0]']                   \n",
            " rmalization)                                                                                     \n",
            "                                                                                                  \n",
            " dec2 (Conv2DTranspose)         (None, 32, 32, 32)   50208       ['batch_normalization_3[0][0]']  \n",
            "                                                                                                  \n",
            " output (Conv2D)                (None, 32, 32, 3)    99          ['dec2[0][0]']                   \n",
            "                                                                                                  \n",
            "==================================================================================================\n",
            "Total params: 110,465\n",
            "Trainable params: 110,325\n",
            "Non-trainable params: 140\n",
            "__________________________________________________________________________________________________\n"
          ]
        }
      ]
    },
    {
      "cell_type": "markdown",
      "metadata": {
        "id": "fFvG5zZdU2Sx"
      },
      "source": [
        "**Training autoencoder(AE) model**"
      ]
    },
    {
      "cell_type": "code",
      "metadata": {
        "id": "PIDWLhbWju2X",
        "colab": {
          "base_uri": "https://localhost:8080/"
        },
        "outputId": "51cc8a4d-f777-455c-89c9-0f371a476597"
      },
      "source": [
        "es = tf.keras.callbacks.EarlyStopping(monitor='val_loss', patience=10, mode='min')\n",
        "\n",
        "checkpoint = ModelCheckpoint('models\\\\model-best.h5',\n",
        "                                  verbose=0, monitor='val_loss',save_best_only=True, mode='auto')\n",
        "\n",
        "autoencoder.fit(train_images, train_images,\n",
        "                epochs=200,\n",
        "                batch_size=256,\n",
        "                shuffle=True,\n",
        "                validation_data=(test_images, test_images),\n",
        "                callbacks = [es, checkpoint]\n",
        "                )\n",
        "\n",
        "del autoencoder  # deletes the existing model\n",
        "autoencoder = load_model('models\\\\model-best.h5')"
      ],
      "execution_count": null,
      "outputs": [
        {
          "output_type": "stream",
          "name": "stdout",
          "text": [
            "Epoch 1/200\n",
            " 79/196 [===========>..................] - ETA: 14s - loss: 0.0227"
          ]
        }
      ]
    },
    {
      "cell_type": "markdown",
      "metadata": {
        "id": "ARjQnI2q1c1N"
      },
      "source": [
        "**Testing autoencoder(AE) model**"
      ]
    },
    {
      "cell_type": "code",
      "metadata": {
        "id": "snSZCBgRjvou"
      },
      "source": [
        "predicted_test = autoencoder.predict(test_images[:100])\n",
        "predicted_test = np.clip(predicted_test, 0., 1.)"
      ],
      "execution_count": null,
      "outputs": []
    },
    {
      "cell_type": "code",
      "metadata": {
        "id": "rzTBOAT2jxsx"
      },
      "source": [
        "n = 3\n",
        "plt.figure(figsize=(6, 6))\n",
        "for i in range(n):\n",
        "\n",
        "    # display original + noise\n",
        "    ax = plt.subplot(3, n, i + 1)\n",
        "    plt.title(\"Label\")\n",
        "    plt.imshow(tf.squeeze((test_images[i]*255).astype('uint8')))\n",
        " #   plt.gray()\n",
        "    ax.get_xaxis().set_visible(False)\n",
        "    ax.get_yaxis().set_visible(False)\n",
        "\n",
        "    bx = plt.subplot(3, n, i + n + 1)\n",
        "    plt.title(\"predicted\")\n",
        "    plt.imshow(tf.squeeze((predicted_test[i]*255).astype('uint8')))\n",
        " #   plt.gray()\n",
        "    bx.get_xaxis().set_visible(False)\n",
        "    bx.get_yaxis().set_visible(False)\n",
        "\n",
        "    ax = plt.subplot(3, n, i + 2*n + 1)\n",
        "    plt.title(\"Label - Predicted\")\n",
        "    residual = np.squeeze(np.abs(test_images[i] - predicted_test[i]))\n",
        "    residual = residual/residual.max()\n",
        "    plt.imshow((residual*255).astype('uint8')) \n",
        "    ax.get_xaxis().set_visible(False)\n",
        "    ax.get_yaxis().set_visible(False)\n",
        "plt.show()"
      ],
      "execution_count": null,
      "outputs": []
    },
    {
      "cell_type": "code",
      "metadata": {
        "id": "CJtK2aG8jzsn"
      },
      "source": [
        "psnr_pred = tf.image.psnr(predicted_test, test_images[:100], max_val=1.0)\n",
        "print('PSNR: ', np.mean(psnr_pred))"
      ],
      "execution_count": null,
      "outputs": []
    },
    {
      "cell_type": "markdown",
      "metadata": {
        "id": "zuXzCq8t1lHX"
      },
      "source": [
        "**Analyzing Noise Characteristics of autoencoder(AE) model**"
      ]
    },
    {
      "cell_type": "code",
      "metadata": {
        "id": "TtVlSaqtj2jh"
      },
      "source": [
        "noise_factor_uniform = 0.4\n",
        "noise_factor_normal = 0.25\n",
        "noise_factor_speckle = 1.2\n",
        "\n",
        "x_test_noisy_uniform = test_images + noise_factor_uniform * np.random.uniform(size=test_images.shape) \n",
        "x_test_noisy_normal = test_images + noise_factor_normal * np.random.normal(size=test_images.shape)\n",
        "x_test_noisy_speckle = test_images + noise_factor_speckle * test_images * np.random.uniform(size=test_images.shape)\n",
        "\n",
        "\n",
        "x_test_noisy_uniform = np.clip(x_test_noisy_uniform, 0., 1.)\n",
        "x_test_noisy_normal = np.clip(x_test_noisy_normal, 0., 1.)\n",
        "x_test_noisy_speckle = np.clip(x_test_noisy_speckle, 0., 1.)"
      ],
      "execution_count": null,
      "outputs": []
    },
    {
      "cell_type": "code",
      "metadata": {
        "id": "cbMF9R66j5A6"
      },
      "source": [
        "predicted_uniform = autoencoder.predict(x_test_noisy_uniform[:100])\n",
        "predicted_normal = autoencoder.predict(x_test_noisy_normal[:100])\n",
        "predicted_speckle = autoencoder.predict(x_test_noisy_speckle[:100])\n",
        "\n",
        "predicted_uniform = np.clip(predicted_uniform, 0., 1.)\n",
        "predicted_normal = np.clip(predicted_normal, 0., 1.)\n",
        "predicted_speckle = np.clip(predicted_speckle, 0., 1.)"
      ],
      "execution_count": null,
      "outputs": []
    },
    {
      "cell_type": "code",
      "metadata": {
        "id": "LnzqBFWxj8NS"
      },
      "source": [
        "n = 3\n",
        "plt.figure(figsize=(8, 12))\n",
        "for i in range(n):\n",
        "\n",
        "    # display original + noise\n",
        "    ax = plt.subplot(5, n, i + 1)\n",
        "    plt.title(\"Label\")\n",
        "    plt.imshow(tf.squeeze((test_images[i]*255).astype('uint8')))\n",
        " #   plt.gray()\n",
        "    ax.get_xaxis().set_visible(False)\n",
        "    ax.get_yaxis().set_visible(False)\n",
        "\n",
        "    bx = plt.subplot(5, n, i + n + 1)\n",
        "    plt.title(\"Label + Uniform Noise\")\n",
        "    plt.imshow(tf.squeeze((x_test_noisy_uniform[i]*255).astype('uint8')))\n",
        " #   plt.gray()\n",
        "    bx.get_xaxis().set_visible(False)\n",
        "    bx.get_yaxis().set_visible(False)\n",
        "\n",
        "    ax = plt.subplot(5, n, i + 2*n + 1)\n",
        "    plt.title(\"Label - Input\")\n",
        "    residual_input = np.squeeze(np.abs(test_images[i] - x_test_noisy_uniform[i]))\n",
        "    residual_input = residual_input/residual_input.max()\n",
        "    plt.imshow((residual_input*255).astype('uint8')) \n",
        "    ax.get_xaxis().set_visible(False)\n",
        "    ax.get_yaxis().set_visible(False)\n",
        "\n",
        "    ax = plt.subplot(5, n, i + 3*n + 1)\n",
        "    plt.title(\"Predicted\")\n",
        "    plt.imshow(tf.squeeze((predicted_uniform[i]*255).astype('uint8')))\n",
        " #   plt.gray()\n",
        "    ax.get_xaxis().set_visible(False)\n",
        "    ax.get_yaxis().set_visible(False)\n",
        "\n",
        "    ax = plt.subplot(5, n, i + 4*n + 1)\n",
        "    plt.title(\"Label - Predicted\")\n",
        "    residual = np.squeeze(np.abs(test_images[i] - predicted_uniform[i]))\n",
        "    residual = residual/residual.max()\n",
        "    plt.imshow((residual*255).astype('uint8'))\n",
        "    ax.get_xaxis().set_visible(False)\n",
        "    ax.get_yaxis().set_visible(False)\n",
        "\n",
        "plt.show()"
      ],
      "execution_count": null,
      "outputs": []
    },
    {
      "cell_type": "code",
      "metadata": {
        "id": "-bOakDeTj8GT"
      },
      "source": [
        "n = 3\n",
        "plt.figure(figsize=(8, 12))\n",
        "for i in range(n):\n",
        "\n",
        "    # display original + noise\n",
        "    ax = plt.subplot(5, n, i + 1)\n",
        "    plt.title(\"Label\")\n",
        "    plt.imshow(tf.squeeze((test_images[i]*255).astype('uint8')))\n",
        " #   plt.gray()\n",
        "    ax.get_xaxis().set_visible(False)\n",
        "    ax.get_yaxis().set_visible(False)\n",
        "\n",
        "    bx = plt.subplot(5, n, i + n + 1)\n",
        "    plt.title(\"Label + Gaussian Noise\")\n",
        "    plt.imshow(tf.squeeze((x_test_noisy_normal[i]*255).astype('uint8')))\n",
        " #   plt.gray()\n",
        "    bx.get_xaxis().set_visible(False)\n",
        "    bx.get_yaxis().set_visible(False)\n",
        "\n",
        "    ax = plt.subplot(5, n, i + 2*n + 1)\n",
        "    plt.title(\"Label - Input\")\n",
        "    residual_input = np.squeeze(np.abs(test_images[i] - x_test_noisy_normal[i]))\n",
        "    residual_input = residual_input/residual_input.max()\n",
        "    plt.imshow((residual_input*255).astype('uint8')) \n",
        "    ax.get_xaxis().set_visible(False)\n",
        "    ax.get_yaxis().set_visible(False)\n",
        "\n",
        "    ax = plt.subplot(5, n, i + 3*n + 1)\n",
        "    plt.title(\"Predicted\")\n",
        "    plt.imshow(tf.squeeze((predicted_normal[i]*255).astype('uint8')))\n",
        " #   plt.gray()\n",
        "    ax.get_xaxis().set_visible(False)\n",
        "    ax.get_yaxis().set_visible(False)\n",
        "\n",
        "    ax = plt.subplot(5, n, i + 4*n + 1)\n",
        "    plt.title(\"Label - Predicted\")\n",
        "    residual = np.squeeze(np.abs(test_images[i] - predicted_normal[i]))\n",
        "    residual = residual/residual.max()\n",
        "    plt.imshow((residual*255).astype('uint8'))\n",
        "    ax.get_xaxis().set_visible(False)\n",
        "    ax.get_yaxis().set_visible(False)\n",
        "\n",
        "plt.show()"
      ],
      "execution_count": null,
      "outputs": []
    },
    {
      "cell_type": "code",
      "metadata": {
        "id": "HxYva76YkDhd"
      },
      "source": [
        "n = 3\n",
        "plt.figure(figsize=(8, 12))\n",
        "for i in range(n):\n",
        "\n",
        "    # display original + noise\n",
        "    ax = plt.subplot(5, n, i + 1)\n",
        "    plt.title(\"Label\")\n",
        "    plt.imshow(tf.squeeze((test_images[i]*255).astype('uint8')))\n",
        " #   plt.gray()\n",
        "    ax.get_xaxis().set_visible(False)\n",
        "    ax.get_yaxis().set_visible(False)\n",
        "\n",
        "    bx = plt.subplot(5, n, i + n + 1)\n",
        "    plt.title(\"Label + Speckle Noise\")\n",
        "    plt.imshow(tf.squeeze((x_test_noisy_speckle[i]*255).astype('uint8')))\n",
        " #   plt.gray()\n",
        "    bx.get_xaxis().set_visible(False)\n",
        "    bx.get_yaxis().set_visible(False)\n",
        "\n",
        "    ax = plt.subplot(5, n, i + 2*n + 1)\n",
        "    plt.title(\"Label - Input\")\n",
        "    residual_input = np.squeeze(np.abs(test_images[i] - x_test_noisy_speckle[i]))\n",
        "    residual_input = residual_input/residual_input.max()\n",
        "    plt.imshow((residual_input*255).astype('uint8')) \n",
        "    ax.get_xaxis().set_visible(False)\n",
        "    ax.get_yaxis().set_visible(False)\n",
        "\n",
        "    ax = plt.subplot(5, n, i + 3*n + 1)\n",
        "    plt.title(\"Predicted\")\n",
        "    plt.imshow(tf.squeeze((predicted_speckle[i]*255).astype('uint8')))\n",
        " #   plt.gray()\n",
        "    ax.get_xaxis().set_visible(False)\n",
        "    ax.get_yaxis().set_visible(False)\n",
        "\n",
        "    ax = plt.subplot(5, n, i + 4*n + 1)\n",
        "    plt.title(\"Label - Predicted\")\n",
        "    residual = np.squeeze(np.abs(test_images[i] - predicted_speckle[i]))\n",
        "    residual = residual/residual.max()\n",
        "    plt.imshow((residual*255).astype('uint8'))\n",
        "    ax.get_xaxis().set_visible(False)\n",
        "    ax.get_yaxis().set_visible(False)\n",
        "\n",
        "plt.show()"
      ],
      "execution_count": null,
      "outputs": []
    },
    {
      "cell_type": "code",
      "metadata": {
        "id": "ASpdwiJMkFwX"
      },
      "source": [
        "psnr_uniform_pred = tf.image.psnr(predicted_uniform, test_images[:100], max_val=1.0)\n",
        "psnr_uniform_input = tf.image.psnr(x_test_noisy_uniform[:100], test_images[:100], max_val=1.0)\n",
        "\n",
        "psnr_normal_pred = tf.image.psnr(predicted_normal, test_images[:100], max_val=1.0)\n",
        "psnr_normal_input = tf.image.psnr(x_test_noisy_normal[:100], test_images[:100], max_val=1.0)\n",
        "\n",
        "psnr_speckle_pred = tf.image.psnr(predicted_speckle, test_images[:100], max_val=1.0)\n",
        "psnr_speckle_input = tf.image.psnr(x_test_noisy_speckle[:100], test_images[:100], max_val=1.0)\n",
        "\n",
        "print('Uniform: ', np.mean(psnr_uniform_input), np.mean(psnr_uniform_pred))\n",
        "print('Gaussian: ', np.mean(psnr_normal_input), np.mean(psnr_normal_pred))\n",
        "print('Speckle: ', np.mean(psnr_speckle_input), np.mean(psnr_speckle_pred))"
      ],
      "execution_count": null,
      "outputs": []
    },
    {
      "cell_type": "markdown",
      "metadata": {
        "id": "IN1TxgZI1vYG"
      },
      "source": [
        "**Calculating Statistics for Noise Characteristics Curve of autoencoder(AE) model**"
      ]
    },
    {
      "cell_type": "code",
      "metadata": {
        "id": "fqiilU0qX7oW"
      },
      "source": [
        "def calculate_PSNR(test_images,noise_factor_uniform,noise_factor_normal,noise_factor_speckle,autoencoder):\n",
        "  x_test_noisy_uniform = test_images + noise_factor_uniform * np.random.uniform(size=test_images.shape) \n",
        "  x_test_noisy_normal = test_images + noise_factor_normal * np.random.normal(size=test_images.shape)\n",
        "  x_test_noisy_speckle = test_images + noise_factor_speckle * test_images * np.random.uniform(size=test_images.shape)\n",
        "\n",
        "\n",
        "  x_test_noisy_uniform = np.clip(x_test_noisy_uniform, 0., 1.)\n",
        "  x_test_noisy_normal = np.clip(x_test_noisy_normal, 0., 1.)\n",
        "  x_test_noisy_speckle = np.clip(x_test_noisy_speckle, 0., 1.)\n",
        "\n",
        "  predicted_uniform = autoencoder.predict(x_test_noisy_uniform[:100])\n",
        "  predicted_normal = autoencoder.predict(x_test_noisy_normal[:100])\n",
        "  predicted_speckle = autoencoder.predict(x_test_noisy_speckle[:100])\n",
        "\n",
        "  predicted_uniform = np.clip(predicted_uniform, 0., 1.)\n",
        "  predicted_normal = np.clip(predicted_normal, 0., 1.)\n",
        "  predicted_speckle = np.clip(predicted_speckle, 0., 1.)\n",
        "\n",
        "  psnr_uniform_pred = tf.image.psnr(predicted_uniform, test_images[:100], max_val=1.0)\n",
        "  psnr_uniform_input = tf.image.psnr(x_test_noisy_uniform[:100], test_images[:100], max_val=1.0)\n",
        "\n",
        "  psnr_normal_pred = tf.image.psnr(predicted_normal, test_images[:100], max_val=1.0)\n",
        "  psnr_normal_input = tf.image.psnr(x_test_noisy_normal[:100], test_images[:100], max_val=1.0)\n",
        "\n",
        "  psnr_speckle_pred = tf.image.psnr(predicted_speckle, test_images[:100], max_val=1.0)\n",
        "  psnr_speckle_input = tf.image.psnr(x_test_noisy_speckle[:100], test_images[:100], max_val=1.0)\n",
        "\n",
        "  print('Uniform: ', np.mean(psnr_uniform_input), np.mean(psnr_uniform_pred))\n",
        "  print('Gaussian: ', np.mean(psnr_normal_input), np.mean(psnr_normal_pred))\n",
        "  print('Speckle: ', np.mean(psnr_speckle_input), np.mean(psnr_speckle_pred))\n",
        "\n",
        "  return np.mean(psnr_uniform_input), np.mean(psnr_uniform_pred), np.mean(psnr_normal_input), np.mean(psnr_normal_pred), np.mean(psnr_speckle_input), np.mean(psnr_speckle_pred)"
      ],
      "execution_count": null,
      "outputs": []
    },
    {
      "cell_type": "code",
      "metadata": {
        "id": "Y-zHyLQOYhLO"
      },
      "source": [
        "# print('----')\n",
        "# noise_factor_uniform = 0.74\n",
        "# noise_factor_normal = 0.5\n",
        "# noise_factor_speckle = 2.8\n",
        "# calculate_PSNR(test_images,noise_factor_uniform,noise_factor_normal,noise_factor_speckle,autoencoder)\n",
        "PSNR_Results = []\n",
        "for i in range(0,20):\n",
        "  noise_factor_uniform = i*0.04\n",
        "  noise_factor_normal = i*0.025\n",
        "  noise_factor_speckle = i*0.12\n",
        "  PSNR_Results.append(calculate_PSNR(test_images,noise_factor_uniform,noise_factor_normal,noise_factor_speckle,autoencoder))\n",
        "  print('----')\n",
        "\n",
        "PSNR_Results = np.asarray(PSNR_Results)"
      ],
      "execution_count": null,
      "outputs": []
    },
    {
      "cell_type": "code",
      "metadata": {
        "id": "RhMSOXEIkDzz"
      },
      "source": [
        "from scipy.io import savemat\n",
        "\n",
        "savemat('Noisy_AE_PSNR_Results.mat',{'PSNR_Results':PSNR_Results})\n",
        "\n",
        "from google.colab import files\n",
        "files.download(\"Noisy_AE_PSNR_Results.mat\")"
      ],
      "execution_count": null,
      "outputs": []
    },
    {
      "cell_type": "markdown",
      "metadata": {
        "id": "Eexf-qpg2xWD"
      },
      "source": [
        "![AE-NCC_16x16x3.jpg](data:image/jpeg;base64,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)\n",
        "\n",
        "**AE-NCC for 16x16x3 (4x compression)**\n"
      ]
    },
    {
      "cell_type": "markdown",
      "metadata": {
        "id": "AiGnLgny2YiO"
      },
      "source": [
        "![AE-NCC_8x8x3.jpg](data:image/jpeg;base64,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)\n",
        "\n",
        "**AE-NCC for 8x8x3 (16x compression)**"
      ]
    }
  ]
}